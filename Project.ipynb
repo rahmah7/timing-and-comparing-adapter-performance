CREATE DATABASE testdb;
USE testdb;

CREATE TABLE users (
    id INT AUTO_INCREMENT PRIMARY KEY,
    name VARCHAR(100),
    age INT
);

INSERT INTO users (name, age) VALUES
('Alice', 30),
('Bob', 25),
('Charlie', 35),
('David', 28),
('Eve', 40);
pip install mysql-connector-python pymysql
import mysql.connector
import pymysql
import time
from mysql.connector import Error

# إعداد الدالة لاختبار وقت التنفيذ باستخدام محول mysql-connector-python
def test_mysql_connector():
    try:
        connection = mysql.connector.connect(
            host="localhost",
            user="root",
            password="my-secret-pw",
            database="testdb"
        )
        
        cursor = connection.cursor()
        cursor.execute("SELECT * FROM users")
        results = cursor.fetchall()
        cursor.close()
        return results
    
    except Error as e:
        print(f"حدث خطأ في mysql-connector-python: {e}")
        return None
    finally:
        if connection.is_connected():
            connection.close()

# إعداد الدالة لاختبار وقت التنفيذ باستخدام محول pymysql
def test_pymysql():
    try:
        connection = pymysql.connect(
            host="localhost",
            user="root",
            password="my-secret-pw",
            database="testdb"
        )
        
        cursor = connection.cursor()
        cursor.execute("SELECT * FROM users")
        results = cursor.fetchall()
        cursor.close()
        return results
    
    except Exception as e:
        print(f"حدث خطأ في pymysql: {e}")
        return None
    finally:
        connection.close()

# دالة لقياس الوقت الذي يستغرقه كل محول
def measure_time(adapter_function):
    start_time = time.time()
    result = adapter_function()
    end_time = time.time()
    execution_time = end_time - start_time
    return result, execution_time

# اختبار المحولات
print("Testing mysql-connector-python...")
results_connector, time_connector = measure_time(test_mysql_connector)
print(f"mysql-connector-python execution time: {time_connector} seconds")
print(f"Number of records retrieved: {len(results_connector)}\n")

print("Testing pymysql...")
results_pymysql, time_pymysql = measure_time(test_pymysql)
print(f"pymysql execution time: {time_pymysql} seconds")
print(f"Number of records retrieved: {len(results_pymysql)}\n")

# مقارنة الأداء بين المحولات
if time_connector < time_pymysql:
    print(f"mysql-connector-python أسرع بـ {time_pymysql - time_connector} ثانية من pymysql")
else:
    print(f"pymysql أسرع بـ {time_connector - time_pymysql} ثانية من mysql-connector-python")
